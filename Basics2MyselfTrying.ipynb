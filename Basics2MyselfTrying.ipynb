{
 "cells": [
  {
   "cell_type": "code",
   "execution_count": 1,
   "metadata": {},
   "outputs": [],
   "source": [
    "from bokeh.plotting import figure, output_file, show"
   ]
  },
  {
   "cell_type": "code",
   "execution_count": 4,
   "metadata": {},
   "outputs": [],
   "source": [
    "# my own data I am preparing\n",
    "x = [20 , 30, 50, 80, 25]\n",
    "y = [30 , 70, 90, 100, 120]\n",
    "\n",
    "#than what you are going to do is output the data to an HTML file\n",
    "output_file(\"Lines.html\")\n",
    "\n",
    "# Creating a new plit with a title!\n",
    "#than axis levels\n",
    "p = figure(title= \"Simple line Graph\", x_axis_label = 'x', y_axis_label = 'y')\n",
    "\n",
    "# adding a line renderer with a legend and line thickness\n",
    "p.line(x, y, legend_label = \"Temperature\", line_width=4)\n",
    "\n",
    "#than you are going to show your results\n",
    "show(p)"
   ]
  },
  {
   "cell_type": "code",
   "execution_count": null,
   "metadata": {},
   "outputs": [],
   "source": [
    "\n"
   ]
  }
 ],
 "metadata": {
  "kernelspec": {
   "display_name": "Python 3",
   "language": "python",
   "name": "python3"
  },
  "language_info": {
   "codemirror_mode": {
    "name": "ipython",
    "version": 3
   },
   "file_extension": ".py",
   "mimetype": "text/x-python",
   "name": "python",
   "nbconvert_exporter": "python",
   "pygments_lexer": "ipython3",
   "version": "3.7.6"
  }
 },
 "nbformat": 4,
 "nbformat_minor": 4
}
